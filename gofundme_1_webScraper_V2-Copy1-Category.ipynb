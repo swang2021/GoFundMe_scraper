{
 "cells": [
  {
   "cell_type": "code",
   "execution_count": 7,
   "metadata": {
    "ExecuteTime": {
     "end_time": "2019-12-30T21:47:54.131078Z",
     "start_time": "2019-12-30T21:47:54.069144Z"
    }
   },
   "outputs": [],
   "source": [
    "import pandas as pd\n",
    "import numpy as np\n",
    "import os\n",
    "import time\n",
    "import matplotlib.pyplot as plt \n",
    "\n",
    "import sys\n",
    "sys.path.append('/Users/sw/Documents/Github/GoFundMe_scraper')\n",
    "from GoFundMe_scraper import ShowMore_clicker, MyWebScraper, profile_reader\n",
    "\n",
    "from IPython.core.interactiveshell import InteractiveShell\n",
    "InteractiveShell.ast_node_interactivity = \"all\""
   ]
  },
  {
   "cell_type": "markdown",
   "metadata": {},
   "source": [
    "# Web Scraping"
   ]
  },
  {
   "cell_type": "code",
   "execution_count": 2,
   "metadata": {},
   "outputs": [],
   "source": [
    "search_links = \\\n",
    "['https://www.gofundme.com/discover/cancer-fundraiser',\n",
    "'https://www.gofundme.com/discover/surgery-fundraiser',\n",
    "'https://www.gofundme.com/discover/competition-fundraiser',\n",
    "'https://www.gofundme.com/discover/creative-fundraiser',\n",
    "'https://www.gofundme.com/discover/education-fundraiser',\n",
    "'https://www.gofundme.com/discover/sports-fundraiser']"
   ]
  },
  {
   "cell_type": "code",
   "execution_count": null,
   "metadata": {
    "scrolled": false
   },
   "outputs": [],
   "source": [
    "start_time = time.time()\n",
    "for i in range(len(search_links)):\n",
    "    search_res = MyWebScraper(search_links[i])\n",
    "    if search_res.num_supply == 1000: \n",
    "        print('=================================================================')\n",
    "        print(\"--- %s have found ---\" % (search_res.num_supply))\n",
    "        try:\n",
    "            scraping_res = list(map(profile_reader, search_res.fundraisers_links))\n",
    "            scraping_res = pd.DataFrame(scraping_res, columns = [['title','created_date','tag','location','text']])\n",
    "            scraping_res['link'] = search_res.fundraisers_links\n",
    "            scraping_res.to_csv(\"20210122/\" + search_res.search_term + \".csv\",index=False,sep=',')\n",
    "            print(\"--- SCRAPING SUCCEEDED ---\")\n",
    "        except:\n",
    "            pass  \n",
    "    \n",
    "print(\"--- %s seconds ---\" % (time.time() - start_time))"
   ]
  },
  {
   "cell_type": "markdown",
   "metadata": {},
   "source": [
    "# Data Enrichment"
   ]
  },
  {
   "cell_type": "code",
   "execution_count": 4,
   "metadata": {},
   "outputs": [
    {
     "data": {
      "text/plain": [
       "['20210122/education.csv',\n",
       " '20210122/surgery.csv',\n",
       " '20210122/cancer.csv',\n",
       " '20210122/creative.csv',\n",
       " '20210122/competition.csv',\n",
       " '20210122/sports.csv']"
      ]
     },
     "execution_count": 4,
     "metadata": {},
     "output_type": "execute_result"
    }
   ],
   "source": [
    "mypath = '20210122'\n",
    "l = []\n",
    "for (dirpath, dirnames, filenames) in os.walk(mypath):\n",
    "    l.extend(os.path.join(dirpath, filename) for filename in filenames)\n",
    "    \n",
    "l = [x for x in l if '.csv' in x]\n",
    "l"
   ]
  },
  {
   "cell_type": "code",
   "execution_count": 10,
   "metadata": {},
   "outputs": [
    {
     "name": "stdout",
     "output_type": "stream",
     "text": [
      "20210122/education.csv 177 8\n",
      "20210122/surgery.csv 214 80\n",
      "20210122/cancer.csv 351 23\n",
      "20210122/creative.csv 423 91\n",
      "20210122/competition.csv 488 273\n",
      "20210122/sports.csv 198 48\n"
     ]
    }
   ],
   "source": [
    "for i in l:\n",
    "    a = pd.read_csv(i, index_col=None, header=0)\n",
    "    finished = a[a.text.notnull()]\n",
    "    pending = a[a.text.isnull()]\n",
    "    \n",
    "    scraping_res = list(map(profile_reader, pending.link))\n",
    "    scraping_res = pd.DataFrame(scraping_res, columns = [['title','created_date','tag','location','text']])\n",
    "    scraping_res['link'] = pending.link.tolist()\n",
    "    \n",
    "    scraping_res.to_csv('temp.csv', index=False,sep=',')\n",
    "    scraping_res = pd.read_csv('temp.csv', index_col=None, header=0)\n",
    "    \n",
    "    a = pd.concat([finished, scraping_res])\n",
    "    a.to_csv(i , index=False,sep=',')\n",
    "\n",
    "    print(i, len(pending), len(scraping_res[scraping_res.text.isnull()]))"
   ]
  },
  {
   "cell_type": "code",
   "execution_count": 11,
   "metadata": {},
   "outputs": [
    {
     "name": "stdout",
     "output_type": "stream",
     "text": [
      "20210122/education.csv 8 8\n",
      "20210122/surgery.csv 80 3\n",
      "20210122/cancer.csv 23 5\n",
      "20210122/creative.csv 91 20\n",
      "20210122/competition.csv 273 113\n",
      "20210122/sports.csv 48 13\n"
     ]
    }
   ],
   "source": [
    "for i in l:\n",
    "    a = pd.read_csv(i, index_col=None, header=0)\n",
    "    finished = a[a.text.notnull()]\n",
    "    pending = a[a.text.isnull()]\n",
    "\n",
    "    scraping_res = list(map(profile_reader, pending.link))\n",
    "    scraping_res = pd.DataFrame(\n",
    "        scraping_res,\n",
    "        columns=[['title', 'created_date', 'tag', 'location', 'text']])\n",
    "    scraping_res['link'] = pending.link.tolist()\n",
    "\n",
    "    scraping_res.to_csv('temp.csv', index=False, sep=',')\n",
    "    scraping_res = pd.read_csv('temp.csv', index_col=None, header=0)\n",
    "\n",
    "    a = pd.concat([finished, scraping_res])\n",
    "    a.to_csv(i, index=False, sep=',')\n",
    "\n",
    "    print(i, len(pending), len(scraping_res[scraping_res.text.isnull()]))"
   ]
  },
  {
   "cell_type": "code",
   "execution_count": 12,
   "metadata": {},
   "outputs": [
    {
     "name": "stdout",
     "output_type": "stream",
     "text": [
      "20210122/education.csv 8 8\n",
      "20210122/surgery.csv 3 3\n",
      "20210122/cancer.csv 5 5\n",
      "20210122/creative.csv 20 6\n",
      "20210122/competition.csv 113 63\n",
      "20210122/sports.csv 13 13\n"
     ]
    }
   ],
   "source": [
    "for i in l:\n",
    "    a = pd.read_csv(i, index_col=None, header=0)\n",
    "    finished = a[a.text.notnull()]\n",
    "    pending = a[a.text.isnull()]\n",
    "\n",
    "    scraping_res = list(map(profile_reader, pending.link))\n",
    "    scraping_res = pd.DataFrame(\n",
    "        scraping_res,\n",
    "        columns=[['title', 'created_date', 'tag', 'location', 'text']])\n",
    "    scraping_res['link'] = pending.link.tolist()\n",
    "\n",
    "    scraping_res.to_csv('temp.csv', index=False, sep=',')\n",
    "    scraping_res = pd.read_csv('temp.csv', index_col=None, header=0)\n",
    "\n",
    "    a = pd.concat([finished, scraping_res])\n",
    "    a.to_csv(i, index=False, sep=',')\n",
    "\n",
    "    print(i, len(pending), len(scraping_res[scraping_res.text.isnull()]))"
   ]
  },
  {
   "cell_type": "code",
   "execution_count": 13,
   "metadata": {},
   "outputs": [
    {
     "name": "stdout",
     "output_type": "stream",
     "text": [
      "20210122/education.csv 8 8\n",
      "20210122/surgery.csv 3 3\n",
      "20210122/cancer.csv 5 5\n",
      "20210122/creative.csv 6 6\n",
      "20210122/competition.csv 63 63\n",
      "20210122/sports.csv 13 13\n"
     ]
    }
   ],
   "source": [
    "for i in l:\n",
    "    a = pd.read_csv(i, index_col=None, header=0)\n",
    "    finished = a[a.text.notnull()]\n",
    "    pending = a[a.text.isnull()]\n",
    "\n",
    "    scraping_res = list(map(profile_reader, pending.link))\n",
    "    scraping_res = pd.DataFrame(\n",
    "        scraping_res,\n",
    "        columns=[['title', 'created_date', 'tag', 'location', 'text']])\n",
    "    scraping_res['link'] = pending.link.tolist()\n",
    "\n",
    "    scraping_res.to_csv('temp.csv', index=False, sep=',')\n",
    "    scraping_res = pd.read_csv('temp.csv', index_col=None, header=0)\n",
    "\n",
    "    a = pd.concat([finished, scraping_res])\n",
    "    a.to_csv(i, index=False, sep=',')\n",
    "\n",
    "    print(i, len(pending), len(scraping_res[scraping_res.text.isnull()]))"
   ]
  },
  {
   "cell_type": "code",
   "execution_count": 10,
   "metadata": {},
   "outputs": [
    {
     "name": "stdout",
     "output_type": "stream",
     "text": [
      "20210122/education.csv 8 8\n",
      "20210122/surgery.csv 3 3\n",
      "20210122/cancer.csv 5 5\n",
      "20210122/creative.csv 6 6\n",
      "20210122/competition.csv 63 63\n",
      "20210122/sports.csv 13 13\n"
     ]
    }
   ],
   "source": [
    "for i in l:\n",
    "    a = pd.read_csv(i, index_col=None, header=0)\n",
    "    finished = a[a.text.notnull()]\n",
    "    pending = a[a.text.isnull()]\n",
    "\n",
    "    scraping_res = list(map(profile_reader, pending.link))\n",
    "    scraping_res = pd.DataFrame(\n",
    "        scraping_res,\n",
    "        columns=[['title', 'created_date', 'tag', 'location', 'text']])\n",
    "    scraping_res['link'] = pending.link.tolist()\n",
    "\n",
    "    scraping_res.to_csv('temp.csv', index=False, sep=',')\n",
    "    scraping_res = pd.read_csv('temp.csv', index_col=None, header=0)\n",
    "\n",
    "    a = pd.concat([finished, scraping_res])\n",
    "    a.to_csv(i, index=False, sep=',')\n",
    "\n",
    "    print(i, len(pending), len(scraping_res[scraping_res.text.isnull()]))"
   ]
  },
  {
   "cell_type": "markdown",
   "metadata": {},
   "source": [
    "# Frequency Distribution of Lexicon"
   ]
  },
  {
   "cell_type": "code",
   "execution_count": 5,
   "metadata": {},
   "outputs": [],
   "source": [
    "import nltk\n",
    "import spacy\n",
    "nlp = spacy.load('en_core_web_lg')\n",
    "# https://spacy.io/usage/spacy-101#annotations-token\n",
    "# https://realpython.com/natural-language-processing-spacy-python/#using-spacy\n",
    "# https://blog.ekbana.com/nlp-for-beninners-using-spacy-6161cf48a229\n",
    "# https://stackoverflow.com/questions/58128757/lemmatization-of-words-using-spacy-and-nltk-not-giving-correct-lemma"
   ]
  },
  {
   "cell_type": "code",
   "execution_count": 15,
   "metadata": {},
   "outputs": [
    {
     "data": {
      "image/png": "[encoded data removed]",
      "text/plain": [
       "<Figure size 648x360 with 1 Axes>"
      ]
     },
     "metadata": {
      "needs_background": "light"
     },
     "output_type": "display_data"
    },
    {
     "data": {
      "text/plain": [
       "<AxesSubplot:title={'center':'education'}, xlabel='Samples', ylabel='Counts'>"
      ]
     },
     "execution_count": 15,
     "metadata": {},
     "output_type": "execute_result"
    }
   ],
   "source": [
    "for index in range(len(l)):\n",
    "    #if index != 0:\n",
    "    #    continue\n",
    "    d = pd.read_csv(l[index])\n",
    "\n",
    "    agg_lexicon = []\n",
    "    for i in d.text:\n",
    "        if str(i) == 'nan':\n",
    "            continue\n",
    "        doc = nlp(i)\n",
    "        lexicon = [\n",
    "            token.lemma_.strip().lower() for token in doc\n",
    "            if token.is_stop != True and token.is_punct != True\n",
    "            and token.is_digit != True and token.is_currency != True\n",
    "        ]\n",
    "        agg_lexicon = agg_lexicon + lexicon\n",
    "\n",
    "    fig = plt.figure(figsize=(9, 5))\n",
    "    word_counts = nltk.FreqDist(agg_lexicon)\n",
    "    word_counts.plot(20,\n",
    "                     cumulative=False,\n",
    "                     title=l[index].split('.csv')[0].split('/')[1])\n",
    "    plt.show()\n",
    "    fig.savefig(l[index].replace('.csv', '.png'), bbox_inches=\"tight\", dpi=1000)\n",
    "    # https://stackoverflow.com/questions/52908305/how-to-save-a-nltk-freqdist-plot"
   ]
  },
  {
   "cell_type": "code",
   "execution_count": null,
   "metadata": {},
   "outputs": [],
   "source": []
  },
  {
   "cell_type": "code",
   "execution_count": null,
   "metadata": {},
   "outputs": [],
   "source": []
  },
  {
   "cell_type": "code",
   "execution_count": null,
   "metadata": {},
   "outputs": [],
   "source": []
  },
  {
   "cell_type": "code",
   "execution_count": null,
   "metadata": {},
   "outputs": [],
   "source": []
  }
 ],
 "metadata": {
  "kernelspec": {
   "display_name": "Python 3",
   "language": "python",
   "name": "python3"
  },
  "language_info": {
   "codemirror_mode": {
    "name": "ipython",
    "version": 3
   },
   "file_extension": ".py",
   "mimetype": "text/x-python",
   "name": "python",
   "nbconvert_exporter": "python",
   "pygments_lexer": "ipython3",
   "version": "3.7.9"
  },
  "toc": {
   "base_numbering": 1,
   "nav_menu": {},
   "number_sections": true,
   "sideBar": true,
   "skip_h1_title": false,
   "title_cell": "Table of Contents",
   "title_sidebar": "Contents",
   "toc_cell": false,
   "toc_position": {
    "height": "calc(100% - 180px)",
    "left": "10px",
    "top": "150px",
    "width": "228.391px"
   },
   "toc_section_display": true,
   "toc_window_display": true
  }
 },
 "nbformat": 4,
 "nbformat_minor": 2
}
